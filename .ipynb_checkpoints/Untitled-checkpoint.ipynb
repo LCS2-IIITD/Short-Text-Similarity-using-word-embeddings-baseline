{
 "cells": [
  {
   "cell_type": "code",
   "execution_count": 89,
   "metadata": {},
   "outputs": [
    {
     "ename": "ValueError",
     "evalue": "A merge layer should be called on a list of inputs.",
     "output_type": "error",
     "traceback": [
      "\u001b[0;31m---------------------------------------------------------------------------\u001b[0m",
      "\u001b[0;31mValueError\u001b[0m                                Traceback (most recent call last)",
      "\u001b[0;32m<ipython-input-89-27f5f5e48ea6>\u001b[0m in \u001b[0;36m<module>\u001b[0;34m()\u001b[0m\n\u001b[1;32m     45\u001b[0m \u001b[0mrecurrent_2\u001b[0m\u001b[0;34m=\u001b[0m\u001b[0mGRU\u001b[0m\u001b[0;34m(\u001b[0m\u001b[0munits\u001b[0m\u001b[0;34m=\u001b[0m\u001b[0mnumber_of_time_windows\u001b[0m\u001b[0;34m,\u001b[0m\u001b[0mactivation\u001b[0m\u001b[0;34m=\u001b[0m\u001b[0;34m'relu'\u001b[0m\u001b[0;34m,\u001b[0m\u001b[0mrecurrent_activation\u001b[0m\u001b[0;34m=\u001b[0m\u001b[0;34m'relu'\u001b[0m\u001b[0;34m,\u001b[0m\u001b[0mreturn_sequences\u001b[0m\u001b[0;34m=\u001b[0m\u001b[0;32mTrue\u001b[0m\u001b[0;34m,\u001b[0m\u001b[0munroll\u001b[0m\u001b[0;34m=\u001b[0m\u001b[0;32mTrue\u001b[0m\u001b[0;34m)\u001b[0m\u001b[0;34m(\u001b[0m\u001b[0mrecurrent_1\u001b[0m\u001b[0;34m)\u001b[0m\u001b[0;34m\u001b[0m\u001b[0m\n\u001b[1;32m     46\u001b[0m \u001b[0mlayer_reshape\u001b[0m\u001b[0;34m=\u001b[0m\u001b[0mReshape\u001b[0m\u001b[0;34m(\u001b[0m\u001b[0mtarget_shape\u001b[0m\u001b[0;34m=\u001b[0m\u001b[0;34m(\u001b[0m\u001b[0mnumber_of_time_windows\u001b[0m\u001b[0;34m,\u001b[0m\u001b[0;36m8\u001b[0m\u001b[0;34m)\u001b[0m\u001b[0;34m)\u001b[0m\u001b[0;34m(\u001b[0m\u001b[0mrecurrent_2\u001b[0m\u001b[0;34m)\u001b[0m\u001b[0;34m\u001b[0m\u001b[0m\n\u001b[0;32m---> 47\u001b[0;31m \u001b[0mlayer_average\u001b[0m\u001b[0;34m=\u001b[0m\u001b[0mAverage\u001b[0m\u001b[0;34m(\u001b[0m\u001b[0;34m)\u001b[0m\u001b[0;34m(\u001b[0m\u001b[0mlayer_reshape\u001b[0m\u001b[0;34m)\u001b[0m\u001b[0;34m\u001b[0m\u001b[0m\n\u001b[0m\u001b[1;32m     48\u001b[0m \u001b[0mmodel_\u001b[0m\u001b[0;34m=\u001b[0m\u001b[0mModel\u001b[0m\u001b[0;34m(\u001b[0m\u001b[0minputs\u001b[0m\u001b[0;34m=\u001b[0m\u001b[0mtotal_inputs\u001b[0m\u001b[0;34m,\u001b[0m\u001b[0moutput\u001b[0m\u001b[0;34m=\u001b[0m\u001b[0mlayer_reshape\u001b[0m\u001b[0;34m)\u001b[0m\u001b[0;34m\u001b[0m\u001b[0m\n\u001b[1;32m     49\u001b[0m \u001b[0;34m\u001b[0m\u001b[0m\n",
      "\u001b[0;32m~/anaconda3/lib/python3.6/site-packages/keras/engine/topology.py\u001b[0m in \u001b[0;36m__call__\u001b[0;34m(self, inputs, **kwargs)\u001b[0m\n\u001b[1;32m    573\u001b[0m                                          '`layer.build(batch_input_shape)`')\n\u001b[1;32m    574\u001b[0m                 \u001b[0;32mif\u001b[0m \u001b[0mlen\u001b[0m\u001b[0;34m(\u001b[0m\u001b[0minput_shapes\u001b[0m\u001b[0;34m)\u001b[0m \u001b[0;34m==\u001b[0m \u001b[0;36m1\u001b[0m\u001b[0;34m:\u001b[0m\u001b[0;34m\u001b[0m\u001b[0m\n\u001b[0;32m--> 575\u001b[0;31m                     \u001b[0mself\u001b[0m\u001b[0;34m.\u001b[0m\u001b[0mbuild\u001b[0m\u001b[0;34m(\u001b[0m\u001b[0minput_shapes\u001b[0m\u001b[0;34m[\u001b[0m\u001b[0;36m0\u001b[0m\u001b[0;34m]\u001b[0m\u001b[0;34m)\u001b[0m\u001b[0;34m\u001b[0m\u001b[0m\n\u001b[0m\u001b[1;32m    576\u001b[0m                 \u001b[0;32melse\u001b[0m\u001b[0;34m:\u001b[0m\u001b[0;34m\u001b[0m\u001b[0m\n\u001b[1;32m    577\u001b[0m                     \u001b[0mself\u001b[0m\u001b[0;34m.\u001b[0m\u001b[0mbuild\u001b[0m\u001b[0;34m(\u001b[0m\u001b[0minput_shapes\u001b[0m\u001b[0;34m)\u001b[0m\u001b[0;34m\u001b[0m\u001b[0m\n",
      "\u001b[0;32m~/anaconda3/lib/python3.6/site-packages/keras/layers/merge.py\u001b[0m in \u001b[0;36mbuild\u001b[0;34m(self, input_shape)\u001b[0m\n\u001b[1;32m     60\u001b[0m         \u001b[0;31m# Used purely for shape validation.\u001b[0m\u001b[0;34m\u001b[0m\u001b[0;34m\u001b[0m\u001b[0m\n\u001b[1;32m     61\u001b[0m         \u001b[0;32mif\u001b[0m \u001b[0;32mnot\u001b[0m \u001b[0misinstance\u001b[0m\u001b[0;34m(\u001b[0m\u001b[0minput_shape\u001b[0m\u001b[0;34m,\u001b[0m \u001b[0mlist\u001b[0m\u001b[0;34m)\u001b[0m\u001b[0;34m:\u001b[0m\u001b[0;34m\u001b[0m\u001b[0m\n\u001b[0;32m---> 62\u001b[0;31m             raise ValueError('A merge layer should be called '\n\u001b[0m\u001b[1;32m     63\u001b[0m                              'on a list of inputs.')\n\u001b[1;32m     64\u001b[0m         \u001b[0;32mif\u001b[0m \u001b[0mlen\u001b[0m\u001b[0;34m(\u001b[0m\u001b[0minput_shape\u001b[0m\u001b[0;34m)\u001b[0m \u001b[0;34m<\u001b[0m \u001b[0;36m2\u001b[0m\u001b[0;34m:\u001b[0m\u001b[0;34m\u001b[0m\u001b[0m\n",
      "\u001b[0;31mValueError\u001b[0m: A merge layer should be called on a list of inputs."
     ]
    }
   ],
   "source": [
    "import keras\n",
    "from keras.layers import Conv2D,Input,Reshape,GRU,concatenate,Flatten,Average,Add\n",
    "from keras.models import  Model\n",
    "import numpy as np\n",
    "\n",
    "number_of_sensors=5\n",
    "sensor_dimension=10\n",
    "number_of_time_windows=8\n",
    "\n",
    "\n",
    "sample_sensor_measurement_1=np.random.random((sensor_dimension,30,8))\n",
    "sample_sensor_measurement_2=np.random.random((sensor_dimension,30,8))\n",
    "sample_sensor_measurement_3=np.random.random((sensor_dimension,30,8))\n",
    "sample_sensor_measurement_4=np.random.random((sensor_dimension,30,8))\n",
    "sample_sensor_measurement_5=np.random.random((sensor_dimension,30,8))\n",
    "\n",
    "output_list=[]\n",
    "inputs_list=[]\n",
    "window_output_list=[]\n",
    "total_inputs=[]\n",
    "\n",
    "for window_num in range(number_of_time_windows):\n",
    "    for i in range(number_of_sensors):\n",
    "        input_layer_1=Input(shape=(sensor_dimension,30,1))\n",
    "        inputs_list.append(input_layer_1)\n",
    "        layer_A_1 =Conv2D(64,(sensor_dimension,3),padding='valid',activation='relu',input_shape=(sensor_dimension,30,1))(input_layer_1)\n",
    "        layer_B_1=Conv2D(64,(1,3),padding='valid',activation='relu')(layer_A_1)\n",
    "        output_layer_1=Conv2D(64,(1,3),padding='valid',activation='relu')(layer_B_1)\n",
    "        flatten_layer_1=Flatten()(output_layer_1)\n",
    "        output_list.append(flatten_layer_1)\n",
    "    layer_merged=concatenate(output_list,axis=1)\n",
    "    layer=Reshape((5,1536,1))(layer_merged)\n",
    "    layer_1=Conv2D(64,(number_of_sensors,3),padding='valid',activation='relu',input_shape=(5,1536,1))(layer)\n",
    "    layer_2=Conv2D(64,(1,3),padding='valid',activation='relu')(layer_1)\n",
    "    layer_3=Conv2D(64,(1,3),padding='valid',activation='relu')(layer_2)\n",
    "    layer_window_final=Flatten()(layer_3)\n",
    "    window_output_list.append(layer_window_final)\n",
    "    model_for_window=Model(inputs=inputs_list,outputs=layer_window_final)\n",
    "    total_inputs+=inputs_list\n",
    "    inputs_list=[]\n",
    "    output_list=[]\n",
    "input_to_recurrent=concatenate(window_output_list,axis=1)\n",
    "window_merged=Reshape((number_of_time_windows,97920))(input_to_recurrent)\n",
    "recurrent_1=GRU(units=number_of_time_windows,activation='relu',recurrent_activation='relu',input_shape=(number_of_time_windows,97920),return_sequences=True,unroll=True)(window_merged)\n",
    "recurrent_2=GRU(units=number_of_time_windows,activation='relu',recurrent_activation='relu',return_sequences=True,unroll=True)(recurrent_1)\n",
    "layer_reshape=Reshape(target_shape=(number_of_time_windows,8))(recurrent_2)\n",
    "layer_average=Average()(layer_reshape)\n",
    "model_=Model(inputs=total_inputs,output=layer_reshape)\n",
    " \n",
    "    \n",
    "\n",
    "\n",
    "    \n",
    "\n"
   ]
  },
  {
   "cell_type": "code",
   "execution_count": 78,
   "metadata": {},
   "outputs": [
    {
     "data": {
      "text/plain": [
       "TensorShape([Dimension(None), Dimension(8), Dimension(8)])"
      ]
     },
     "execution_count": 78,
     "metadata": {},
     "output_type": "execute_result"
    }
   ],
   "source": [
    "layer_reshape.shape"
   ]
  },
  {
   "cell_type": "code",
   "execution_count": 86,
   "metadata": {},
   "outputs": [],
   "source": [
    "l=[]\n",
    "for i in range(8):\n",
    "    l.append(recurrent_2[:,i,:])\n",
    "    "
   ]
  },
  {
   "cell_type": "code",
   "execution_count": 87,
   "metadata": {},
   "outputs": [
    {
     "data": {
      "text/plain": [
       "[<tf.Tensor 'strided_slice_132:0' shape=(?, 8) dtype=float32>,\n",
       " <tf.Tensor 'strided_slice_133:0' shape=(?, 8) dtype=float32>,\n",
       " <tf.Tensor 'strided_slice_134:0' shape=(?, 8) dtype=float32>,\n",
       " <tf.Tensor 'strided_slice_135:0' shape=(?, 8) dtype=float32>,\n",
       " <tf.Tensor 'strided_slice_136:0' shape=(?, 8) dtype=float32>,\n",
       " <tf.Tensor 'strided_slice_137:0' shape=(?, 8) dtype=float32>,\n",
       " <tf.Tensor 'strided_slice_138:0' shape=(?, 8) dtype=float32>,\n",
       " <tf.Tensor 'strided_slice_139:0' shape=(?, 8) dtype=float32>]"
      ]
     },
     "execution_count": 87,
     "metadata": {},
     "output_type": "execute_result"
    }
   ],
   "source": [
    "l"
   ]
  },
  {
   "cell_type": "code",
   "execution_count": null,
   "metadata": {
    "collapsed": true
   },
   "outputs": [],
   "source": []
  }
 ],
 "metadata": {
  "kernelspec": {
   "display_name": "Python 3",
   "language": "python",
   "name": "python3"
  },
  "language_info": {
   "codemirror_mode": {
    "name": "ipython",
    "version": 3
   },
   "file_extension": ".py",
   "mimetype": "text/x-python",
   "name": "python",
   "nbconvert_exporter": "python",
   "pygments_lexer": "ipython3",
   "version": "3.6.3"
  }
 },
 "nbformat": 4,
 "nbformat_minor": 2
}
